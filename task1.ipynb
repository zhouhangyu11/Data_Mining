{
 "cells": [
  {
   "cell_type": "code",
   "execution_count": 35,
   "id": "initial_id",
   "metadata": {
    "collapsed": true,
    "ExecuteTime": {
     "end_time": "2023-12-12T15:23:00.769261900Z",
     "start_time": "2023-12-12T15:23:00.722262Z"
    }
   },
   "outputs": [
    {
     "data": {
      "text/plain": "   age         job   marital          education  default housing loan  \\\n0   72     retired   married           basic.4y       no      no   no   \n1   30      admin.    single  university.degree       no     yes   no   \n2   31  unemployed   married  university.degree       no     yes   no   \n3   37      admin.   married        high.school       no     yes  yes   \n4   53  unemployed  divorced           basic.9y  unknown      no   no   \n\n     contact month day_of_week  campaign  pdays  previous     poutcome  \\\n0  telephone   apr         tue         1    999         0  nonexistent   \n1   cellular   aug         tue         1    999         0  nonexistent   \n2   cellular   aug         fri         4    999         0  nonexistent   \n3   cellular   nov         mon         1    999         0  nonexistent   \n4  telephone   may         thu         2    999         0  nonexistent   \n\n   emp.var.rate  cons.price.idx  cons.conf.idx  euribor3m  nr.employed   y  \n0          -1.8          93.075          -47.1      1.453       5099.1  no  \n1          -1.7          94.027          -38.3      0.886       4991.6  no  \n2           1.4          93.444          -36.1      4.966       5228.1  no  \n3          -3.4          92.649          -30.1      0.722       5017.5  no  \n4           1.1          93.994          -36.4      4.860       5191.0  no  ",
      "text/html": "<div>\n<style scoped>\n    .dataframe tbody tr th:only-of-type {\n        vertical-align: middle;\n    }\n\n    .dataframe tbody tr th {\n        vertical-align: top;\n    }\n\n    .dataframe thead th {\n        text-align: right;\n    }\n</style>\n<table border=\"1\" class=\"dataframe\">\n  <thead>\n    <tr style=\"text-align: right;\">\n      <th></th>\n      <th>age</th>\n      <th>job</th>\n      <th>marital</th>\n      <th>education</th>\n      <th>default</th>\n      <th>housing</th>\n      <th>loan</th>\n      <th>contact</th>\n      <th>month</th>\n      <th>day_of_week</th>\n      <th>campaign</th>\n      <th>pdays</th>\n      <th>previous</th>\n      <th>poutcome</th>\n      <th>emp.var.rate</th>\n      <th>cons.price.idx</th>\n      <th>cons.conf.idx</th>\n      <th>euribor3m</th>\n      <th>nr.employed</th>\n      <th>y</th>\n    </tr>\n  </thead>\n  <tbody>\n    <tr>\n      <th>0</th>\n      <td>72</td>\n      <td>retired</td>\n      <td>married</td>\n      <td>basic.4y</td>\n      <td>no</td>\n      <td>no</td>\n      <td>no</td>\n      <td>telephone</td>\n      <td>apr</td>\n      <td>tue</td>\n      <td>1</td>\n      <td>999</td>\n      <td>0</td>\n      <td>nonexistent</td>\n      <td>-1.8</td>\n      <td>93.075</td>\n      <td>-47.1</td>\n      <td>1.453</td>\n      <td>5099.1</td>\n      <td>no</td>\n    </tr>\n    <tr>\n      <th>1</th>\n      <td>30</td>\n      <td>admin.</td>\n      <td>single</td>\n      <td>university.degree</td>\n      <td>no</td>\n      <td>yes</td>\n      <td>no</td>\n      <td>cellular</td>\n      <td>aug</td>\n      <td>tue</td>\n      <td>1</td>\n      <td>999</td>\n      <td>0</td>\n      <td>nonexistent</td>\n      <td>-1.7</td>\n      <td>94.027</td>\n      <td>-38.3</td>\n      <td>0.886</td>\n      <td>4991.6</td>\n      <td>no</td>\n    </tr>\n    <tr>\n      <th>2</th>\n      <td>31</td>\n      <td>unemployed</td>\n      <td>married</td>\n      <td>university.degree</td>\n      <td>no</td>\n      <td>yes</td>\n      <td>no</td>\n      <td>cellular</td>\n      <td>aug</td>\n      <td>fri</td>\n      <td>4</td>\n      <td>999</td>\n      <td>0</td>\n      <td>nonexistent</td>\n      <td>1.4</td>\n      <td>93.444</td>\n      <td>-36.1</td>\n      <td>4.966</td>\n      <td>5228.1</td>\n      <td>no</td>\n    </tr>\n    <tr>\n      <th>3</th>\n      <td>37</td>\n      <td>admin.</td>\n      <td>married</td>\n      <td>high.school</td>\n      <td>no</td>\n      <td>yes</td>\n      <td>yes</td>\n      <td>cellular</td>\n      <td>nov</td>\n      <td>mon</td>\n      <td>1</td>\n      <td>999</td>\n      <td>0</td>\n      <td>nonexistent</td>\n      <td>-3.4</td>\n      <td>92.649</td>\n      <td>-30.1</td>\n      <td>0.722</td>\n      <td>5017.5</td>\n      <td>no</td>\n    </tr>\n    <tr>\n      <th>4</th>\n      <td>53</td>\n      <td>unemployed</td>\n      <td>divorced</td>\n      <td>basic.9y</td>\n      <td>unknown</td>\n      <td>no</td>\n      <td>no</td>\n      <td>telephone</td>\n      <td>may</td>\n      <td>thu</td>\n      <td>2</td>\n      <td>999</td>\n      <td>0</td>\n      <td>nonexistent</td>\n      <td>1.1</td>\n      <td>93.994</td>\n      <td>-36.4</td>\n      <td>4.860</td>\n      <td>5191.0</td>\n      <td>no</td>\n    </tr>\n  </tbody>\n</table>\n</div>"
     },
     "execution_count": 35,
     "metadata": {},
     "output_type": "execute_result"
    }
   ],
   "source": [
    "import pandas as pd\n",
    "\n",
    "data = pd.read_csv('data/bank_marketing_train.csv')\n",
    "data.head()"
   ]
  },
  {
   "cell_type": "code",
   "execution_count": 36,
   "outputs": [],
   "source": [
    "from sklearn.metrics import roc_auc_score\n",
    "from sklearn.preprocessing import StandardScaler, LabelEncoder\n",
    "from sklearn.tree import DecisionTreeClassifier\n",
    "from sklearn.linear_model import Perceptron, LogisticRegression\n",
    "from sklearn.svm import SVC\n",
    "from sklearn.naive_bayes import GaussianNB\n",
    "from sklearn.neighbors import KNeighborsClassifier\n",
    "from sklearn.model_selection import cross_val_predict\n",
    "import xgboost as xgb\n",
    "import pandas as pd"
   ],
   "metadata": {
    "collapsed": false,
    "ExecuteTime": {
     "end_time": "2023-12-12T15:23:01.288849100Z",
     "start_time": "2023-12-12T15:23:01.272848600Z"
    }
   },
   "id": "f774a5339935813"
  },
  {
   "cell_type": "code",
   "execution_count": 37,
   "outputs": [
    {
     "data": {
      "text/plain": "array([[ 3.04731251,  0.35298919, -0.27175801, ..., -1.42232164,\n        -1.22943639, -0.90737059],\n       [-0.97169418, -1.03883738,  1.36527684, ...,  0.47164059,\n        -1.55456028, -2.37549294],\n       [-0.87600354,  1.74481576, -0.27175801, ...,  0.94513114,\n         0.78495555,  0.85437624],\n       ...,\n       [-1.25876608,  1.18808514,  1.36527684, ..., -1.22862095,\n        -1.28620406, -0.90737059],\n       [ 1.70764361, -1.03883738, -0.27175801, ...,  0.94513114,\n         0.78495555,  0.85437624],\n       [-0.58893164,  0.07462388,  1.36527684, ..., -0.32468444,\n         0.29985006,  0.41325669]])"
     },
     "execution_count": 37,
     "metadata": {},
     "output_type": "execute_result"
    }
   ],
   "source": [
    "#数据预处理\n",
    "label_encoders = {}\n",
    "for column in data.select_dtypes(include=['object']).columns:\n",
    "    label_encoders[column] = LabelEncoder()\n",
    "    data[column] = label_encoders[column].fit_transform(data[column])\n",
    "\n",
    "#分割数据集为X和y\n",
    "X_train = data.drop('y', axis=1)\n",
    "y_train = data['y']\n",
    "# Standardizing the data\n",
    "scaler = StandardScaler()\n",
    "X_train_scaled = scaler.fit_transform(X_train)\n",
    "X_train_scaled"
   ],
   "metadata": {
    "collapsed": false,
    "ExecuteTime": {
     "end_time": "2023-12-12T15:23:01.774975200Z",
     "start_time": "2023-12-12T15:23:01.737975900Z"
    }
   },
   "id": "d981966345b0843f"
  },
  {
   "cell_type": "code",
   "execution_count": 38,
   "outputs": [],
   "source": [
    "#定义模型\n",
    "models = {\n",
    "    \"Decision Tree\": DecisionTreeClassifier(random_state=42),\n",
    "    \"Linear Perceptron\": Perceptron(random_state=42),\n",
    "    \"Logistic Regression\": LogisticRegression(random_state=42),\n",
    "    \"SVM\": SVC(probability=True, random_state=42),\n",
    "    \"Naive Bayes\": GaussianNB(),\n",
    "    \"KNN\": KNeighborsClassifier(),\n",
    "    \"XGBoost\":xgb.XGBClassifier(learning_rate=0.1, max_depth=3, n_estimators=200, eval_metric='logloss')\n",
    "}"
   ],
   "metadata": {
    "collapsed": false,
    "ExecuteTime": {
     "end_time": "2023-12-12T15:23:02.479573900Z",
     "start_time": "2023-12-12T15:23:02.473573800Z"
    }
   },
   "id": "3a8955e527676949"
  },
  {
   "cell_type": "code",
   "execution_count": 39,
   "outputs": [
    {
     "data": {
      "text/plain": "{'Decision Tree': 0.6157336055586898,\n 'Linear Perceptron': 0.5754680002229575,\n 'Logistic Regression': 0.7870314886480607,\n 'SVM': 0.6980531304863256,\n 'Naive Bayes': 0.7660989699739842,\n 'KNN': 0.7188934866487569,\n 'XGBoost': 0.8023589655236991}"
     },
     "execution_count": 39,
     "metadata": {},
     "output_type": "execute_result"
    }
   ],
   "source": [
    "# 对模型进行交叉验证\n",
    "cv_roc_auc_scores = {}\n",
    "for name, model in models.items():\n",
    "    if name == \"Linear Perceptron\":\n",
    "        # Perceptron没有predict_proba方法\n",
    "        y_pred = cross_val_predict(model, X_train_scaled, y_train, cv=5, method=\"predict\")\n",
    "    else:\n",
    "        y_pred = cross_val_predict(model, X_train_scaled, y_train, cv=5, method=\"predict_proba\")[:, 1]\n",
    "\n",
    "    cv_roc_auc_scores[name] = roc_auc_score(y_train, y_pred)\n",
    "\n",
    "cv_roc_auc_scores"
   ],
   "metadata": {
    "collapsed": false,
    "ExecuteTime": {
     "end_time": "2023-12-12T15:26:07.169596300Z",
     "start_time": "2023-12-12T15:23:03.437041600Z"
    }
   },
   "id": "3c40691f31b26a37"
  },
  {
   "cell_type": "code",
   "execution_count": 40,
   "outputs": [
    {
     "data": {
      "text/plain": "{'Decision Tree': 0.6157336055586898,\n 'Linear Perceptron': 0.5754680002229575,\n 'Logistic Regression': 0.7870314886480607,\n 'SVM': 0.6980531304863256,\n 'Naive Bayes': 0.7660989699739842,\n 'KNN': 0.7188934866487569,\n 'XGBoost': 0.8023589655236991,\n 'Stack': 0.8471261835337014}"
     },
     "execution_count": 40,
     "metadata": {},
     "output_type": "execute_result"
    }
   ],
   "source": [
    "#使用集成学习stack堆叠模型进行训练\n",
    "from sklearn.ensemble import StackingClassifier\n",
    "\n",
    "# 定义基模型\n",
    "base_models = [\n",
    "    (\"Decision Tree\", DecisionTreeClassifier(random_state=42)),\n",
    "    (\"Logistic Regression\", LogisticRegression(random_state=42)),\n",
    "    (\"SVM\", SVC(probability=True, random_state=42)),\n",
    "    (\"Naive Bayes\", GaussianNB()),\n",
    "    (\"KNN\", KNeighborsClassifier()),\n",
    "    (\"XGBoost\", xgb.XGBClassifier(learning_rate=0.1, max_depth=3, n_estimators=200, eval_metric='logloss'))\n",
    "]\n",
    "\n",
    "# 定义最终的聚合模型\n",
    "final_model = LogisticRegression(random_state=42)\n",
    "\n",
    "# 创建堆叠分类器\n",
    "stacked_model = StackingClassifier(estimators=base_models, final_estimator=final_model, cv=5)\n",
    "\n",
    "# 拟合堆叠模型\n",
    "stacked_model.fit(X_train_scaled, y_train)\n",
    "\n",
    "# 预测概率\n",
    "y_pred_proba = stacked_model.predict_proba(X_train_scaled)[:, 1]\n",
    "\n",
    "# 计算ROC AUC分数\n",
    "stack_roc_auc = roc_auc_score(y_train, y_pred_proba)\n",
    "\n",
    "cv_roc_auc_scores[\"Stack\"] = stack_roc_auc\n",
    "\n",
    "cv_roc_auc_scores"
   ],
   "metadata": {
    "collapsed": false,
    "ExecuteTime": {
     "end_time": "2023-12-12T15:31:00.903903100Z",
     "start_time": "2023-12-12T15:26:24.367220200Z"
    }
   },
   "id": "c204edcab78ee6b6"
  },
  {
   "cell_type": "code",
   "execution_count": 41,
   "outputs": [
    {
     "data": {
      "text/plain": "   age          job  marital            education  default housing loan  \\\n0   34  blue-collar  married             basic.6y       no      no   no   \n1   29       admin.  married          high.school       no     yes   no   \n2   38    housemaid  married          high.school  unknown      no   no   \n3   31     services  married          high.school  unknown      no   no   \n4   45  blue-collar  married  professional.course       no     yes   no   \n\n     contact month day_of_week  campaign  pdays  previous     poutcome  \\\n0  telephone   may         mon       4.0    999         0  nonexistent   \n1  telephone   jun         fri       3.0    999         0  nonexistent   \n2  telephone   may         thu       4.0    999         0  nonexistent   \n3  telephone   jun         thu       2.0    999         0  nonexistent   \n4  telephone   may         thu       NaN      6         2      success   \n\n   emp.var.rate  cons.price.idx  cons.conf.idx  euribor3m  nr.employed  \n0           1.1          93.994          -36.4      4.857       5191.0  \n1           1.4          94.465          -41.8      4.959       5228.1  \n2           1.1          93.994          -36.4      4.860       5191.0  \n3           1.4          94.465          -41.8      4.866       5228.1  \n4          -1.8          93.876          -40.0      0.683       5008.7  ",
      "text/html": "<div>\n<style scoped>\n    .dataframe tbody tr th:only-of-type {\n        vertical-align: middle;\n    }\n\n    .dataframe tbody tr th {\n        vertical-align: top;\n    }\n\n    .dataframe thead th {\n        text-align: right;\n    }\n</style>\n<table border=\"1\" class=\"dataframe\">\n  <thead>\n    <tr style=\"text-align: right;\">\n      <th></th>\n      <th>age</th>\n      <th>job</th>\n      <th>marital</th>\n      <th>education</th>\n      <th>default</th>\n      <th>housing</th>\n      <th>loan</th>\n      <th>contact</th>\n      <th>month</th>\n      <th>day_of_week</th>\n      <th>campaign</th>\n      <th>pdays</th>\n      <th>previous</th>\n      <th>poutcome</th>\n      <th>emp.var.rate</th>\n      <th>cons.price.idx</th>\n      <th>cons.conf.idx</th>\n      <th>euribor3m</th>\n      <th>nr.employed</th>\n    </tr>\n  </thead>\n  <tbody>\n    <tr>\n      <th>0</th>\n      <td>34</td>\n      <td>blue-collar</td>\n      <td>married</td>\n      <td>basic.6y</td>\n      <td>no</td>\n      <td>no</td>\n      <td>no</td>\n      <td>telephone</td>\n      <td>may</td>\n      <td>mon</td>\n      <td>4.0</td>\n      <td>999</td>\n      <td>0</td>\n      <td>nonexistent</td>\n      <td>1.1</td>\n      <td>93.994</td>\n      <td>-36.4</td>\n      <td>4.857</td>\n      <td>5191.0</td>\n    </tr>\n    <tr>\n      <th>1</th>\n      <td>29</td>\n      <td>admin.</td>\n      <td>married</td>\n      <td>high.school</td>\n      <td>no</td>\n      <td>yes</td>\n      <td>no</td>\n      <td>telephone</td>\n      <td>jun</td>\n      <td>fri</td>\n      <td>3.0</td>\n      <td>999</td>\n      <td>0</td>\n      <td>nonexistent</td>\n      <td>1.4</td>\n      <td>94.465</td>\n      <td>-41.8</td>\n      <td>4.959</td>\n      <td>5228.1</td>\n    </tr>\n    <tr>\n      <th>2</th>\n      <td>38</td>\n      <td>housemaid</td>\n      <td>married</td>\n      <td>high.school</td>\n      <td>unknown</td>\n      <td>no</td>\n      <td>no</td>\n      <td>telephone</td>\n      <td>may</td>\n      <td>thu</td>\n      <td>4.0</td>\n      <td>999</td>\n      <td>0</td>\n      <td>nonexistent</td>\n      <td>1.1</td>\n      <td>93.994</td>\n      <td>-36.4</td>\n      <td>4.860</td>\n      <td>5191.0</td>\n    </tr>\n    <tr>\n      <th>3</th>\n      <td>31</td>\n      <td>services</td>\n      <td>married</td>\n      <td>high.school</td>\n      <td>unknown</td>\n      <td>no</td>\n      <td>no</td>\n      <td>telephone</td>\n      <td>jun</td>\n      <td>thu</td>\n      <td>2.0</td>\n      <td>999</td>\n      <td>0</td>\n      <td>nonexistent</td>\n      <td>1.4</td>\n      <td>94.465</td>\n      <td>-41.8</td>\n      <td>4.866</td>\n      <td>5228.1</td>\n    </tr>\n    <tr>\n      <th>4</th>\n      <td>45</td>\n      <td>blue-collar</td>\n      <td>married</td>\n      <td>professional.course</td>\n      <td>no</td>\n      <td>yes</td>\n      <td>no</td>\n      <td>telephone</td>\n      <td>may</td>\n      <td>thu</td>\n      <td>NaN</td>\n      <td>6</td>\n      <td>2</td>\n      <td>success</td>\n      <td>-1.8</td>\n      <td>93.876</td>\n      <td>-40.0</td>\n      <td>0.683</td>\n      <td>5008.7</td>\n    </tr>\n  </tbody>\n</table>\n</div>"
     },
     "execution_count": 41,
     "metadata": {},
     "output_type": "execute_result"
    }
   ],
   "source": [
    "#导入测试集数据\n",
    "X_test = pd.read_csv('data/bank_marketing_test.csv')\n",
    "X_test.head()"
   ],
   "metadata": {
    "collapsed": false,
    "ExecuteTime": {
     "end_time": "2023-12-12T15:31:23.110734800Z",
     "start_time": "2023-12-12T15:31:23.081849900Z"
    }
   },
   "id": "b7528a7e7df4199c"
  },
  {
   "cell_type": "code",
   "execution_count": 42,
   "outputs": [
    {
     "data": {
      "text/plain": "      age  job  marital  education  default  housing  loan  contact  month  \\\n0      34    1        1          1        0        0     0        1      6   \n1      29    0        1          3        0        2     0        1      4   \n2      38    3        1          3        1        0     0        1      6   \n3      31    7        1          3        1        0     0        1      4   \n4      45    1        1          5        0        2     0        1      6   \n...   ...  ...      ...        ...      ...      ...   ...      ...    ...   \n7995   56    3        1          0        0        0     0        1      6   \n7996   58    5        1          0        0        2     0        1      9   \n7997   52    0        1          2        0        0     0        0      3   \n7998   37    0        2          6        0        2     2        0      7   \n7999   41    0        2          3        0        0     0        1      4   \n\n      day_of_week  campaign  pdays  previous  poutcome  emp.var.rate  \\\n0               1       4.0    999         0         1           1.1   \n1               0       3.0    999         0         1           1.4   \n2               2       4.0    999         0         1           1.1   \n3               2       2.0    999         0         1           1.4   \n4               2       NaN      6         2         2          -1.8   \n...           ...       ...    ...       ...       ...           ...   \n7995            1       1.0    999         0         1           1.1   \n7996            2       1.0    999         0         1          -1.1   \n7997            4       2.0    999         0         1           1.4   \n7998            0       1.0    999         0         1          -0.1   \n7999            4       3.0    999         0         1           1.4   \n\n      cons.price.idx  cons.conf.idx  euribor3m  nr.employed  \n0             93.994          -36.4      4.857       5191.0  \n1             94.465          -41.8      4.959       5228.1  \n2             93.994          -36.4      4.860       5191.0  \n3             94.465          -41.8      4.866       5228.1  \n4             93.876          -40.0      0.683       5008.7  \n...              ...            ...        ...          ...  \n7995          93.994          -36.4      4.857       5191.0  \n7996          94.199          -37.5      0.884       4963.6  \n7997          93.918          -42.7      4.963       5228.1  \n7998          93.200          -42.0      4.021       5195.8  \n7999          94.465          -41.8      4.959       5228.1  \n\n[8000 rows x 19 columns]",
      "text/html": "<div>\n<style scoped>\n    .dataframe tbody tr th:only-of-type {\n        vertical-align: middle;\n    }\n\n    .dataframe tbody tr th {\n        vertical-align: top;\n    }\n\n    .dataframe thead th {\n        text-align: right;\n    }\n</style>\n<table border=\"1\" class=\"dataframe\">\n  <thead>\n    <tr style=\"text-align: right;\">\n      <th></th>\n      <th>age</th>\n      <th>job</th>\n      <th>marital</th>\n      <th>education</th>\n      <th>default</th>\n      <th>housing</th>\n      <th>loan</th>\n      <th>contact</th>\n      <th>month</th>\n      <th>day_of_week</th>\n      <th>campaign</th>\n      <th>pdays</th>\n      <th>previous</th>\n      <th>poutcome</th>\n      <th>emp.var.rate</th>\n      <th>cons.price.idx</th>\n      <th>cons.conf.idx</th>\n      <th>euribor3m</th>\n      <th>nr.employed</th>\n    </tr>\n  </thead>\n  <tbody>\n    <tr>\n      <th>0</th>\n      <td>34</td>\n      <td>1</td>\n      <td>1</td>\n      <td>1</td>\n      <td>0</td>\n      <td>0</td>\n      <td>0</td>\n      <td>1</td>\n      <td>6</td>\n      <td>1</td>\n      <td>4.0</td>\n      <td>999</td>\n      <td>0</td>\n      <td>1</td>\n      <td>1.1</td>\n      <td>93.994</td>\n      <td>-36.4</td>\n      <td>4.857</td>\n      <td>5191.0</td>\n    </tr>\n    <tr>\n      <th>1</th>\n      <td>29</td>\n      <td>0</td>\n      <td>1</td>\n      <td>3</td>\n      <td>0</td>\n      <td>2</td>\n      <td>0</td>\n      <td>1</td>\n      <td>4</td>\n      <td>0</td>\n      <td>3.0</td>\n      <td>999</td>\n      <td>0</td>\n      <td>1</td>\n      <td>1.4</td>\n      <td>94.465</td>\n      <td>-41.8</td>\n      <td>4.959</td>\n      <td>5228.1</td>\n    </tr>\n    <tr>\n      <th>2</th>\n      <td>38</td>\n      <td>3</td>\n      <td>1</td>\n      <td>3</td>\n      <td>1</td>\n      <td>0</td>\n      <td>0</td>\n      <td>1</td>\n      <td>6</td>\n      <td>2</td>\n      <td>4.0</td>\n      <td>999</td>\n      <td>0</td>\n      <td>1</td>\n      <td>1.1</td>\n      <td>93.994</td>\n      <td>-36.4</td>\n      <td>4.860</td>\n      <td>5191.0</td>\n    </tr>\n    <tr>\n      <th>3</th>\n      <td>31</td>\n      <td>7</td>\n      <td>1</td>\n      <td>3</td>\n      <td>1</td>\n      <td>0</td>\n      <td>0</td>\n      <td>1</td>\n      <td>4</td>\n      <td>2</td>\n      <td>2.0</td>\n      <td>999</td>\n      <td>0</td>\n      <td>1</td>\n      <td>1.4</td>\n      <td>94.465</td>\n      <td>-41.8</td>\n      <td>4.866</td>\n      <td>5228.1</td>\n    </tr>\n    <tr>\n      <th>4</th>\n      <td>45</td>\n      <td>1</td>\n      <td>1</td>\n      <td>5</td>\n      <td>0</td>\n      <td>2</td>\n      <td>0</td>\n      <td>1</td>\n      <td>6</td>\n      <td>2</td>\n      <td>NaN</td>\n      <td>6</td>\n      <td>2</td>\n      <td>2</td>\n      <td>-1.8</td>\n      <td>93.876</td>\n      <td>-40.0</td>\n      <td>0.683</td>\n      <td>5008.7</td>\n    </tr>\n    <tr>\n      <th>...</th>\n      <td>...</td>\n      <td>...</td>\n      <td>...</td>\n      <td>...</td>\n      <td>...</td>\n      <td>...</td>\n      <td>...</td>\n      <td>...</td>\n      <td>...</td>\n      <td>...</td>\n      <td>...</td>\n      <td>...</td>\n      <td>...</td>\n      <td>...</td>\n      <td>...</td>\n      <td>...</td>\n      <td>...</td>\n      <td>...</td>\n      <td>...</td>\n    </tr>\n    <tr>\n      <th>7995</th>\n      <td>56</td>\n      <td>3</td>\n      <td>1</td>\n      <td>0</td>\n      <td>0</td>\n      <td>0</td>\n      <td>0</td>\n      <td>1</td>\n      <td>6</td>\n      <td>1</td>\n      <td>1.0</td>\n      <td>999</td>\n      <td>0</td>\n      <td>1</td>\n      <td>1.1</td>\n      <td>93.994</td>\n      <td>-36.4</td>\n      <td>4.857</td>\n      <td>5191.0</td>\n    </tr>\n    <tr>\n      <th>7996</th>\n      <td>58</td>\n      <td>5</td>\n      <td>1</td>\n      <td>0</td>\n      <td>0</td>\n      <td>2</td>\n      <td>0</td>\n      <td>1</td>\n      <td>9</td>\n      <td>2</td>\n      <td>1.0</td>\n      <td>999</td>\n      <td>0</td>\n      <td>1</td>\n      <td>-1.1</td>\n      <td>94.199</td>\n      <td>-37.5</td>\n      <td>0.884</td>\n      <td>4963.6</td>\n    </tr>\n    <tr>\n      <th>7997</th>\n      <td>52</td>\n      <td>0</td>\n      <td>1</td>\n      <td>2</td>\n      <td>0</td>\n      <td>0</td>\n      <td>0</td>\n      <td>0</td>\n      <td>3</td>\n      <td>4</td>\n      <td>2.0</td>\n      <td>999</td>\n      <td>0</td>\n      <td>1</td>\n      <td>1.4</td>\n      <td>93.918</td>\n      <td>-42.7</td>\n      <td>4.963</td>\n      <td>5228.1</td>\n    </tr>\n    <tr>\n      <th>7998</th>\n      <td>37</td>\n      <td>0</td>\n      <td>2</td>\n      <td>6</td>\n      <td>0</td>\n      <td>2</td>\n      <td>2</td>\n      <td>0</td>\n      <td>7</td>\n      <td>0</td>\n      <td>1.0</td>\n      <td>999</td>\n      <td>0</td>\n      <td>1</td>\n      <td>-0.1</td>\n      <td>93.200</td>\n      <td>-42.0</td>\n      <td>4.021</td>\n      <td>5195.8</td>\n    </tr>\n    <tr>\n      <th>7999</th>\n      <td>41</td>\n      <td>0</td>\n      <td>2</td>\n      <td>3</td>\n      <td>0</td>\n      <td>0</td>\n      <td>0</td>\n      <td>1</td>\n      <td>4</td>\n      <td>4</td>\n      <td>3.0</td>\n      <td>999</td>\n      <td>0</td>\n      <td>1</td>\n      <td>1.4</td>\n      <td>94.465</td>\n      <td>-41.8</td>\n      <td>4.959</td>\n      <td>5228.1</td>\n    </tr>\n  </tbody>\n</table>\n<p>8000 rows × 19 columns</p>\n</div>"
     },
     "execution_count": 42,
     "metadata": {},
     "output_type": "execute_result"
    }
   ],
   "source": [
    "#encode测试集数据,X_test\n",
    "for column in X_test.select_dtypes(include=['object']).columns:\n",
    "    if column in label_encoders:\n",
    "        X_test[column] = label_encoders[column].transform(X_test[column])\n",
    "        \n",
    "X_test"
   ],
   "metadata": {
    "collapsed": false,
    "ExecuteTime": {
     "end_time": "2023-12-12T15:31:24.500930700Z",
     "start_time": "2023-12-12T15:31:24.462938500Z"
    }
   },
   "id": "700a07b7a791a592"
  },
  {
   "cell_type": "code",
   "execution_count": 43,
   "outputs": [
    {
     "data": {
      "text/plain": "array([[-0.58893164, -0.76047206, -0.27175801, ...,  0.88056425,\n         0.72245378,  0.34770332],\n       [-1.06738481, -1.03883738, -0.27175801, ..., -0.28163984,\n         0.78094167,  0.85437624],\n       [-0.20616909, -0.20374143, -0.27175801, ...,  0.88056425,\n         0.72417401,  0.34770332],\n       ...,\n       [ 1.1334998 , -1.03883738, -0.27175801, ..., -0.47534052,\n         0.78323531,  0.85437624],\n       [-0.30185973, -1.03883738,  1.36527684, ..., -0.32468444,\n         0.24308239,  0.41325669],\n       [ 0.08090281, -1.03883738,  1.36527684, ..., -0.28163984,\n         0.78094167,  0.85437624]])"
     },
     "execution_count": 43,
     "metadata": {},
     "output_type": "execute_result"
    }
   ],
   "source": [
    "#发现X_test有缺失值，消除缺失值\n",
    "missing_values = X_test.isnull().sum()\n",
    "missing_values = missing_values[missing_values > 0]\n",
    "\n",
    "median_value = data['campaign'].median()\n",
    "X_test['campaign'].fillna(median_value, inplace=True)\n",
    "X_test_scaled = scaler.transform(X_test)\n",
    "X_test_scaled"
   ],
   "metadata": {
    "collapsed": false,
    "ExecuteTime": {
     "end_time": "2023-12-12T15:31:25.604880700Z",
     "start_time": "2023-12-12T15:31:25.582856100Z"
    }
   },
   "id": "4accc6f75b25862"
  },
  {
   "cell_type": "code",
   "execution_count": 44,
   "outputs": [
    {
     "data": {
      "text/plain": "array([0.04583232, 0.0512307 , 0.04933628, ..., 0.06932013, 0.06740187,\n       0.05253857])"
     },
     "execution_count": 44,
     "metadata": {},
     "output_type": "execute_result"
    }
   ],
   "source": [
    "#选择最好的模型为Stack集成模型\n",
    "test_predictions = stacked_model.predict_proba(X_test_scaled)[:, 1]\n",
    "test_predictions"
   ],
   "metadata": {
    "collapsed": false,
    "ExecuteTime": {
     "end_time": "2023-12-12T15:31:29.308137200Z",
     "start_time": "2023-12-12T15:31:26.448295700Z"
    }
   },
   "id": "4b4c285eae8cc4f2"
  },
  {
   "cell_type": "code",
   "execution_count": 45,
   "outputs": [],
   "source": [
    "# 创建一个 DataFrame 包含预测值\n",
    "predictions_df = pd.DataFrame({'Predictions': test_predictions},)\n",
    "\n",
    "# 将 DataFrame 存储为 CSV 文件\n",
    "predictions_df.to_csv('data/bank_marketing_test_scores.csv', index=False,header=False)"
   ],
   "metadata": {
    "collapsed": false,
    "ExecuteTime": {
     "end_time": "2023-12-12T15:31:36.581757100Z",
     "start_time": "2023-12-12T15:31:36.545174400Z"
    }
   },
   "id": "92bb5a15eb0c0ac9"
  }
 ],
 "metadata": {
  "kernelspec": {
   "display_name": "Python 3",
   "language": "python",
   "name": "python3"
  },
  "language_info": {
   "codemirror_mode": {
    "name": "ipython",
    "version": 2
   },
   "file_extension": ".py",
   "mimetype": "text/x-python",
   "name": "python",
   "nbconvert_exporter": "python",
   "pygments_lexer": "ipython2",
   "version": "2.7.6"
  }
 },
 "nbformat": 4,
 "nbformat_minor": 5
}
