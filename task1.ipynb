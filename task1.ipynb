{
 "cells": [
  {
   "cell_type": "code",
   "execution_count": 86,
   "id": "initial_id",
   "metadata": {
    "collapsed": true,
    "ExecuteTime": {
     "end_time": "2023-12-09T13:42:29.042493600Z",
     "start_time": "2023-12-09T13:42:29.000494600Z"
    }
   },
   "outputs": [
    {
     "data": {
      "text/plain": "   age         job   marital          education  default housing loan  \\\n0   72     retired   married           basic.4y       no      no   no   \n1   30      admin.    single  university.degree       no     yes   no   \n2   31  unemployed   married  university.degree       no     yes   no   \n3   37      admin.   married        high.school       no     yes  yes   \n4   53  unemployed  divorced           basic.9y  unknown      no   no   \n\n     contact month day_of_week  campaign  pdays  previous     poutcome  \\\n0  telephone   apr         tue         1    999         0  nonexistent   \n1   cellular   aug         tue         1    999         0  nonexistent   \n2   cellular   aug         fri         4    999         0  nonexistent   \n3   cellular   nov         mon         1    999         0  nonexistent   \n4  telephone   may         thu         2    999         0  nonexistent   \n\n   emp.var.rate  cons.price.idx  cons.conf.idx  euribor3m  nr.employed   y  \n0          -1.8          93.075          -47.1      1.453       5099.1  no  \n1          -1.7          94.027          -38.3      0.886       4991.6  no  \n2           1.4          93.444          -36.1      4.966       5228.1  no  \n3          -3.4          92.649          -30.1      0.722       5017.5  no  \n4           1.1          93.994          -36.4      4.860       5191.0  no  ",
      "text/html": "<div>\n<style scoped>\n    .dataframe tbody tr th:only-of-type {\n        vertical-align: middle;\n    }\n\n    .dataframe tbody tr th {\n        vertical-align: top;\n    }\n\n    .dataframe thead th {\n        text-align: right;\n    }\n</style>\n<table border=\"1\" class=\"dataframe\">\n  <thead>\n    <tr style=\"text-align: right;\">\n      <th></th>\n      <th>age</th>\n      <th>job</th>\n      <th>marital</th>\n      <th>education</th>\n      <th>default</th>\n      <th>housing</th>\n      <th>loan</th>\n      <th>contact</th>\n      <th>month</th>\n      <th>day_of_week</th>\n      <th>campaign</th>\n      <th>pdays</th>\n      <th>previous</th>\n      <th>poutcome</th>\n      <th>emp.var.rate</th>\n      <th>cons.price.idx</th>\n      <th>cons.conf.idx</th>\n      <th>euribor3m</th>\n      <th>nr.employed</th>\n      <th>y</th>\n    </tr>\n  </thead>\n  <tbody>\n    <tr>\n      <th>0</th>\n      <td>72</td>\n      <td>retired</td>\n      <td>married</td>\n      <td>basic.4y</td>\n      <td>no</td>\n      <td>no</td>\n      <td>no</td>\n      <td>telephone</td>\n      <td>apr</td>\n      <td>tue</td>\n      <td>1</td>\n      <td>999</td>\n      <td>0</td>\n      <td>nonexistent</td>\n      <td>-1.8</td>\n      <td>93.075</td>\n      <td>-47.1</td>\n      <td>1.453</td>\n      <td>5099.1</td>\n      <td>no</td>\n    </tr>\n    <tr>\n      <th>1</th>\n      <td>30</td>\n      <td>admin.</td>\n      <td>single</td>\n      <td>university.degree</td>\n      <td>no</td>\n      <td>yes</td>\n      <td>no</td>\n      <td>cellular</td>\n      <td>aug</td>\n      <td>tue</td>\n      <td>1</td>\n      <td>999</td>\n      <td>0</td>\n      <td>nonexistent</td>\n      <td>-1.7</td>\n      <td>94.027</td>\n      <td>-38.3</td>\n      <td>0.886</td>\n      <td>4991.6</td>\n      <td>no</td>\n    </tr>\n    <tr>\n      <th>2</th>\n      <td>31</td>\n      <td>unemployed</td>\n      <td>married</td>\n      <td>university.degree</td>\n      <td>no</td>\n      <td>yes</td>\n      <td>no</td>\n      <td>cellular</td>\n      <td>aug</td>\n      <td>fri</td>\n      <td>4</td>\n      <td>999</td>\n      <td>0</td>\n      <td>nonexistent</td>\n      <td>1.4</td>\n      <td>93.444</td>\n      <td>-36.1</td>\n      <td>4.966</td>\n      <td>5228.1</td>\n      <td>no</td>\n    </tr>\n    <tr>\n      <th>3</th>\n      <td>37</td>\n      <td>admin.</td>\n      <td>married</td>\n      <td>high.school</td>\n      <td>no</td>\n      <td>yes</td>\n      <td>yes</td>\n      <td>cellular</td>\n      <td>nov</td>\n      <td>mon</td>\n      <td>1</td>\n      <td>999</td>\n      <td>0</td>\n      <td>nonexistent</td>\n      <td>-3.4</td>\n      <td>92.649</td>\n      <td>-30.1</td>\n      <td>0.722</td>\n      <td>5017.5</td>\n      <td>no</td>\n    </tr>\n    <tr>\n      <th>4</th>\n      <td>53</td>\n      <td>unemployed</td>\n      <td>divorced</td>\n      <td>basic.9y</td>\n      <td>unknown</td>\n      <td>no</td>\n      <td>no</td>\n      <td>telephone</td>\n      <td>may</td>\n      <td>thu</td>\n      <td>2</td>\n      <td>999</td>\n      <td>0</td>\n      <td>nonexistent</td>\n      <td>1.1</td>\n      <td>93.994</td>\n      <td>-36.4</td>\n      <td>4.860</td>\n      <td>5191.0</td>\n      <td>no</td>\n    </tr>\n  </tbody>\n</table>\n</div>"
     },
     "execution_count": 86,
     "metadata": {},
     "output_type": "execute_result"
    }
   ],
   "source": [
    "import pandas as pd\n",
    "\n",
    "data = pd.read_csv('data/bank_marketing_train.csv')\n",
    "data.head()"
   ]
  },
  {
   "cell_type": "code",
   "execution_count": 87,
   "outputs": [],
   "source": [
    "from sklearn.model_selection import train_test_split\n",
    "from sklearn.metrics import roc_auc_score\n",
    "from sklearn.preprocessing import StandardScaler, LabelEncoder\n",
    "from sklearn.tree import DecisionTreeClassifier\n",
    "from sklearn.linear_model import Perceptron, LogisticRegression\n",
    "from sklearn.svm import SVC\n",
    "from sklearn.naive_bayes import GaussianNB\n",
    "from sklearn.neighbors import KNeighborsClassifier\n",
    "from sklearn.ensemble import VotingClassifier"
   ],
   "metadata": {
    "collapsed": false,
    "ExecuteTime": {
     "end_time": "2023-12-09T13:42:29.624541600Z",
     "start_time": "2023-12-09T13:42:29.607542400Z"
    }
   },
   "id": "f774a5339935813"
  },
  {
   "cell_type": "code",
   "execution_count": 88,
   "outputs": [
    {
     "data": {
      "text/plain": "array([[ 3.04731251,  0.35298919, -0.27175801, ..., -1.42232164,\n        -1.22943639, -0.90737059],\n       [-0.97169418, -1.03883738,  1.36527684, ...,  0.47164059,\n        -1.55456028, -2.37549294],\n       [-0.87600354,  1.74481576, -0.27175801, ...,  0.94513114,\n         0.78495555,  0.85437624],\n       ...,\n       [-1.25876608,  1.18808514,  1.36527684, ..., -1.22862095,\n        -1.28620406, -0.90737059],\n       [ 1.70764361, -1.03883738, -0.27175801, ...,  0.94513114,\n         0.78495555,  0.85437624],\n       [-0.58893164,  0.07462388,  1.36527684, ..., -0.32468444,\n         0.29985006,  0.41325669]])"
     },
     "execution_count": 88,
     "metadata": {},
     "output_type": "execute_result"
    }
   ],
   "source": [
    "#数据预处理\n",
    "label_encoders = {}\n",
    "for column in data.select_dtypes(include=['object']).columns:\n",
    "    label_encoders[column] = LabelEncoder()\n",
    "    data[column] = label_encoders[column].fit_transform(data[column])\n",
    "\n",
    "#分割数据集为X和y\n",
    "X_train = data.drop('y', axis=1)\n",
    "y_train = data['y']\n",
    "# Standardizing the data\n",
    "scaler = StandardScaler()\n",
    "X_train_scaled = scaler.fit_transform(X_train)\n",
    "X_train_scaled"
   ],
   "metadata": {
    "collapsed": false,
    "ExecuteTime": {
     "end_time": "2023-12-09T13:42:30.202107200Z",
     "start_time": "2023-12-09T13:42:30.155963600Z"
    }
   },
   "id": "d981966345b0843f"
  },
  {
   "cell_type": "code",
   "execution_count": 89,
   "outputs": [],
   "source": [
    "#定义模型\n",
    "models = {\n",
    "    \"Decision Tree\": DecisionTreeClassifier(random_state=42),\n",
    "    \"Linear Perceptron\": Perceptron(random_state=42),\n",
    "    \"Logistic Regression\": LogisticRegression(random_state=42),\n",
    "    \"SVM\": SVC(probability=True, random_state=42),\n",
    "    \"Naive Bayes\": GaussianNB(),\n",
    "    \"KNN\": KNeighborsClassifier()\n",
    "}"
   ],
   "metadata": {
    "collapsed": false,
    "ExecuteTime": {
     "end_time": "2023-12-09T13:42:30.784545100Z",
     "start_time": "2023-12-09T13:42:30.763393500Z"
    }
   },
   "id": "3a8955e527676949"
  },
  {
   "cell_type": "code",
   "execution_count": 90,
   "outputs": [
    {
     "data": {
      "text/plain": "{'Decision Tree': 0.9999361712100908,\n 'Linear Perceptron': 0.6296461624436054,\n 'Logistic Regression': 0.7889748038068111,\n 'SVM': 0.8411986179626404,\n 'Naive Bayes': 0.7666545630215663,\n 'KNN': 0.9241153396206908}"
     },
     "execution_count": 90,
     "metadata": {},
     "output_type": "execute_result"
    }
   ],
   "source": [
    "roc_auc_scores = {}\n",
    "for name, model in models.items():\n",
    "    model.fit(X_train_scaled, y_train)\n",
    "    if name == \"Linear Perceptron\":  # Perceptron 没有 predict_proba\n",
    "        y_pred = model.predict(X_train_scaled)\n",
    "    else:\n",
    "        y_pred = model.predict_proba(X_train_scaled)[:, 1]\n",
    "    roc_auc_scores[name] = roc_auc_score(y_train, y_pred)\n",
    "roc_auc_scores"
   ],
   "metadata": {
    "collapsed": false,
    "ExecuteTime": {
     "end_time": "2023-12-09T13:43:51.065335200Z",
     "start_time": "2023-12-09T13:42:34.036261900Z"
    }
   },
   "id": "3c40691f31b26a37"
  },
  {
   "cell_type": "code",
   "execution_count": 91,
   "outputs": [
    {
     "data": {
      "text/plain": "{'Decision Tree': 0.9999361712100908,\n 'Linear Perceptron': 0.6296461624436054,\n 'Logistic Regression': 0.7889748038068111,\n 'SVM': 0.8411986179626404,\n 'Naive Bayes': 0.7666545630215663,\n 'KNN': 0.9241153396206908,\n 'Ensemble': 0.9710635477659314}"
     },
     "execution_count": 91,
     "metadata": {},
     "output_type": "execute_result"
    }
   ],
   "source": [
    "# Ensemble model\n",
    "ensemble_model = VotingClassifier(estimators=[(name, model) for name, model in models.items() if name != \"Linear Perceptron\"], voting='soft')\n",
    "ensemble_model.fit(X_train_scaled, y_train)\n",
    "ensemble_pred = ensemble_model.predict_proba(X_train_scaled)[:, 1]\n",
    "roc_auc_scores[\"Ensemble\"] = roc_auc_score(y_train, ensemble_pred)\n",
    "\n",
    "roc_auc_scores"
   ],
   "metadata": {
    "collapsed": false,
    "ExecuteTime": {
     "end_time": "2023-12-09T13:45:17.230923600Z",
     "start_time": "2023-12-09T13:44:00.011493600Z"
    }
   },
   "id": "48710ee9d264f897"
  },
  {
   "cell_type": "code",
   "execution_count": null,
   "outputs": [],
   "source": [],
   "metadata": {
    "collapsed": false
   },
   "id": "b7528a7e7df4199c"
  }
 ],
 "metadata": {
  "kernelspec": {
   "display_name": "Python 3",
   "language": "python",
   "name": "python3"
  },
  "language_info": {
   "codemirror_mode": {
    "name": "ipython",
    "version": 2
   },
   "file_extension": ".py",
   "mimetype": "text/x-python",
   "name": "python",
   "nbconvert_exporter": "python",
   "pygments_lexer": "ipython2",
   "version": "2.7.6"
  }
 },
 "nbformat": 4,
 "nbformat_minor": 5
}
